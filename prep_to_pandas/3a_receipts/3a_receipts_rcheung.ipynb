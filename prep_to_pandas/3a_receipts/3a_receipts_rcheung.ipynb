{
 "cells": [
  {
   "cell_type": "code",
   "execution_count": 28,
   "metadata": {},
   "outputs": [],
   "source": [
    "import pandas as pd\n",
    "\n",
    "# read required excel sheets into dfs forcing string type\n",
    "receipts_df = pd.read_excel (r'PL_RECEIPTS_TO_PO_TEST_FY21.xlsx', dtype=str) \n",
    "fund_code_df = pd.read_excel (r'PL_FUND_CODE.xlsx', dtype=str)\n",
    "dept_id_df = pd.read_excel (r'PL_DEPT_ID_LIST.xlsx', dtype=str) "
   ]
  },
  {
   "cell_type": "code",
   "execution_count": 62,
   "metadata": {},
   "outputs": [],
   "source": [
    "# do left joins for receipt data and the codes\n",
    "receipts_df_merge = pd.merge(receipts_df, dept_id_df, how='left', \n",
    "                            left_on = 'RCV - Dept', right_on = 'DEPT - Dept ID')\n",
    "\n",
    "receipts_df_merge = pd.merge(receipts_df_merge, fund_code_df, how='left', \n",
    "                            left_on = 'RCV - Fund', right_on = 'FC - Fund Code')\n",
    "\n",
    "# drop duplicate columns and uneeded columns\n",
    "receipts_df_merge = receipts_df_merge.drop(\n",
    "                ['DEPT - Dept ID', 'DEPT - Dept Eff Date', 'DEPT - Dept Status', \n",
    "                'FC - Fund Code', 'FC - Fund Code SetID', 'FC - Fund Code Eff Date', \n",
    "                'FC - Fund Code Status', 'FC - Fund Code Budget Only'], axis=1)"
   ]
  },
  {
   "cell_type": "code",
   "execution_count": 42,
   "metadata": {},
   "outputs": [],
   "source": [
    "# returns the column name with given prefix\n",
    "def change_pre(col, code):\n",
    "    loc = col.find(\"-\")\n",
    "    original_code = col[0:loc]\n",
    "    desc = col[loc+1:]\n",
    "    if original_code != code:\n",
    "        return code + \"-\" + desc\n",
    "    else:\n",
    "        return col\n",
    "\n",
    "# test for change_pre function\n",
    "print(change_pre(\"RCV - Data Desc Here - asd\", \"RCV\"))\n",
    "print(change_pre(\"FC - Data Desc Here - asd\", \"RCV\"))\n",
    "print(change_pre(\"DEPT - Data Desc Here\", \"RCV\"))"
   ]
  },
  {
   "cell_type": "code",
   "execution_count": 47,
   "metadata": {},
   "outputs": [],
   "source": [
    "# rename columns by applying name\n",
    "receipts_df_merge.columns = [change_pre(col, \"RCV\") for col in receipts_df_merge.columns]\n"
   ]
  },
  {
   "cell_type": "code",
   "execution_count": 50,
   "metadata": {},
   "outputs": [],
   "source": [
    "receipts_df_merge.to_excel('ReceiptsData.xlsx')"
   ]
  },
  {
   "cell_type": "code",
   "execution_count": null,
   "metadata": {},
   "outputs": [],
   "source": [
    "# ISSUE: Number of rows differs from beginning"
   ]
  }
 ],
 "metadata": {
  "kernelspec": {
   "display_name": "Python 3.9.12 ('base')",
   "language": "python",
   "name": "python3"
  },
  "language_info": {
   "codemirror_mode": {
    "name": "ipython",
    "version": 3
   },
   "file_extension": ".py",
   "mimetype": "text/x-python",
   "name": "python",
   "nbconvert_exporter": "python",
   "pygments_lexer": "ipython3",
   "version": "3.9.12"
  },
  "orig_nbformat": 4,
  "vscode": {
   "interpreter": {
    "hash": "e36fc04cc5dddfc36ac1bd5256701ce84981517a3f6fd7f8bd6d16f988b343be"
   }
  }
 },
 "nbformat": 4,
 "nbformat_minor": 2
}
