{
 "cells": [
  {
   "cell_type": "code",
   "execution_count": 1,
   "metadata": {},
   "outputs": [],
   "source": [
    "# FILE PATH FOR REQUIRED FILES: \n",
    "#   O:\\PP-PROLOG\\VENDOR_MANAGEMENT\\Data_Analytics\\Data_Files\\Daily_Reports\n",
    "\n",
    "import pandas as pd\n",
    "\n",
    "# read required excel sheets into dfs forcing string type\n",
    "latest_ioh_df = pd.read_excel (r'PL_INV_BY_BASE.xlsx', dtype=str) \n",
    "leadtimes_dh = pd.read_excel (r'PL_LEADTIME.xlsx', dtype=str)"
   ]
  },
  {
   "cell_type": "code",
   "execution_count": 8,
   "metadata": {},
   "outputs": [],
   "source": [
    "cs004_df = latest_ioh_df.loc[latest_ioh_df['IOH - Unit'] == 'CS004']\n",
    "cs004_df = cs004_df.groupby(['IOH - Item ID'])"
   ]
  },
  {
   "cell_type": "code",
   "execution_count": 2,
   "metadata": {},
   "outputs": [
    {
     "data": {
      "text/plain": [
       "Index(['IOH - Report Date', 'IOH - Unit', 'IOH - Item ID', 'IOH - Qty On Hand',\n",
       "       'IOH - On Hand Value', 'IOH - LTM Demand Qty', 'IOH - Utilization Type',\n",
       "       'IOH - LTM Demand Value', 'IOH - Item Descr',\n",
       "       'IOH - FMIS Item Group ID', 'IOH - FMIS Item Group',\n",
       "       'IOH - FMIS Item Family', 'IOH - Current Status', 'IOH - Reorder Point',\n",
       "       'IOH - Reorder Qty', 'IOH - Max Qty', 'IOH - Cost Element',\n",
       "       'IOH - No Repl Flag', 'Query Date'],\n",
       "      dtype='object')"
      ]
     },
     "execution_count": 2,
     "metadata": {},
     "output_type": "execute_result"
    }
   ],
   "source": [
    "latest_ioh_df.columns"
   ]
  }
 ],
 "metadata": {
  "kernelspec": {
   "display_name": "Python 3.9.12 ('base')",
   "language": "python",
   "name": "python3"
  },
  "language_info": {
   "codemirror_mode": {
    "name": "ipython",
    "version": 3
   },
   "file_extension": ".py",
   "mimetype": "text/x-python",
   "name": "python",
   "nbconvert_exporter": "python",
   "pygments_lexer": "ipython3",
   "version": "3.9.12"
  },
  "orig_nbformat": 4,
  "vscode": {
   "interpreter": {
    "hash": "e36fc04cc5dddfc36ac1bd5256701ce84981517a3f6fd7f8bd6d16f988b343be"
   }
  }
 },
 "nbformat": 4,
 "nbformat_minor": 2
}
