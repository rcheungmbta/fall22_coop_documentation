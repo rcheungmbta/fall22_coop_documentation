{
 "cells": [
  {
   "cell_type": "code",
   "execution_count": null,
   "metadata": {},
   "outputs": [],
   "source": [
    "\n",
    "\n",
    "# Base Reorder Point (Highest)\n",
    "df['Base Reorder Point (Highest)'] = df1.apply(lambda x: x['IOH - Reorder Point'] if x['IOH - Unit'][:2] == 'BS' else 0)\n",
    "\n",
    "# Base Do Not Replenish Count\n",
    "df1['Base Do Not Replenish Count'] = df1.apply(lambda x: 1 if (x['IOH - Unit'][:2]=='BS') and \n",
    "                                                                    ((x['IOH - Reorder Qty']==0 and  x['IOH - Reorder Point']==0 and x['IOH - Max Qty']==0)\n",
    "                                                                        or (x['IOH - No Repl Flag']=='Y')\n",
    "                                                                        or (x['IOH - Current Status']=='Discnt'))\n",
    "                                                                    else 0)\n",
    "# Other CS Do Not Replenish Count\n",
    "df1['Other CS Do Not Replenish Count'] = df1.apply(lambda x: 1 if (x['IOH - Unit']=='CS001' or x['IOH - Unit']) and \n",
    "                                                                    ((x['IOH - Reorder Qty']==0 and  x['IOH - Reorder Point']==0 and x['IOH - Max Qty']==0)\n",
    "                                                                        or (x['IOH - No Repl Flag']=='Y')\n",
    "                                                                        or (x['IOH - Current Status']=='Discnt'))\n",
    "                                                                    else 0)\n",
    "\n",
    "# Other CS Do Not Replenish Flag Count\n",
    "df1['Other CS Do Not Replenish Flag Count'] = df1.apply(lambda x: 1 if (x['IOH - Unit']=='CS001' or x['IOH - Unit']=='CS002') and x['IOH - No Repl Flag']=='Y' else 0)\n",
    "\n",
    "# Avg Base Reorder Point\n",
    "df['Avg Base Reorder Point'] = df1.apply(lambda x: x['IOH - Reorder Point'] if x['IOH - Unit'][:2] == 'BS' else None)\n"
   ]
  }
 ],
 "metadata": {
  "kernelspec": {
   "display_name": "Python 3.10.5 64-bit",
   "language": "python",
   "name": "python3"
  },
  "language_info": {
   "name": "python",
   "version": "3.10.5"
  },
  "orig_nbformat": 4,
  "vscode": {
   "interpreter": {
    "hash": "dfb834bf15a30d1f1fcd2ceb22eff581ef469ea7d8072f9bd5d96eb1ce01a290"
   }
  }
 },
 "nbformat": 4,
 "nbformat_minor": 2
}
